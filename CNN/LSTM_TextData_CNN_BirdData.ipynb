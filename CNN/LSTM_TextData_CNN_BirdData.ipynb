{
 "cells": [
  {
   "cell_type": "code",
   "execution_count": 146,
   "metadata": {},
   "outputs": [],
   "source": [
    "'''\n",
    "1 (c)\n",
    "'''\n",
    "from tensorflow.keras.preprocessing.text import Tokenizer\n",
    "# books = [\"The Problems of Philosophy\", \"The Analysis of Mind\", \"Mysticism and Logic and Other Essays\",\n",
    "#         \"Our Knowledge of the External World as a Field for Scientific Method in Philosophy\",\n",
    "#          \"The History of Western Philosophy\",\"The Analysis of Matter\"]\n",
    "books = [\"The Problems of Philosophy\", \"The Analysis of Mind\", \"Mysticism and Logic and Other Essays\",\n",
    "        \"Our Knowledge of the External World as a Field for Scientific Method in Philosophy\"]"
   ]
  },
  {
   "cell_type": "code",
   "execution_count": 147,
   "metadata": {
    "scrolled": true
   },
   "outputs": [
    {
     "name": "stdout",
     "output_type": "stream",
     "text": [
      "{'a': 0, 'b': 1, 'c': 2, 'd': 3, 'e': 4, 'f': 5, 'g': 6, 'h': 7, 'i': 8, 'j': 9, 'k': 10, 'l': 11, 'm': 12, 'n': 13, 'o': 14, 'p': 15, 'q': 16, 'r': 17, 's': 18, 't': 19, 'u': 20, 'v': 21, 'w': 22, 'x': 23, 'y': 24, 'z': 25, '0': 26, '1': 27, '2': 28, '3': 29, '4': 30, '5': 31, '6': 32, '7': 33, '8': 34, '9': 35, ',': 36, ';': 37, '.': 38, '!': 39, '?': 40, ':': 41, \"'\": 42, '\"': 43, '/': 44, '\\\\': 45, '|': 46, '_': 47, '@': 48, '#': 49, '$': 50, '%': 51, '^': 52, '&': 53, '*': 54, '~': 55, '`': 56, '+': 57, '-': 58, '=': 59, '<': 60, '>': 61, '(': 62, ')': 63, '[': 64, ']': 65, '{': 66, '}': 67, ' ': 68, 'UNK': 69}\n"
     ]
    }
   ],
   "source": [
    "'''\n",
    "1 (c) ii\n",
    "'''\n",
    "#character we concern\n",
    "alphabet = \"abcdefghijklmnopqrstuvwxyz0123456789,;.!?:'\\\"/\\\\|_@#$%^&*~`+-=<>()[]{} \"\n",
    "char_dict = {}\n",
    "for i, char in enumerate(alphabet):\n",
    "    char_dict[char] = i\n",
    "text = \"\"\n",
    "for i in range (len(books)):\n",
    "    temp_book = open(books[i] + \".txt\", \"r\")\n",
    "    text += temp_book.read()\n",
    "tokenizer = Tokenizer(num_words=None, char_level=True, oov_token='UNK')\n",
    "tokenizer.fit_on_texts(text)\n",
    "tokenizer.word_index = char_dict.copy()\n",
    "tokenizer.word_index[tokenizer.oov_token] = max(char_dict.values()) + 1\n",
    "char_dict = tokenizer.word_index.copy()\n",
    "\n",
    "#index to char dict\n",
    "reversed_dictionary = dict(zip(char_dict.values(), char_dict.keys()))\n",
    "reversed_dictionary[max(char_dict.values())] = ' ' \n",
    "\n",
    "print(tokenizer.word_index)\n",
    "sequences = tokenizer.texts_to_sequences(text)\n",
    "train_data = []\n",
    "for i in range (len(sequences)):\n",
    "    train_data.append(sequences[i][0] / (70))\n",
    "    \n"
   ]
  },
  {
   "cell_type": "code",
   "execution_count": 148,
   "metadata": {},
   "outputs": [
    {
     "name": "stdout",
     "output_type": "stream",
     "text": [
      "1596417\n"
     ]
    }
   ],
   "source": [
    "print(len(train_data))"
   ]
  },
  {
   "cell_type": "code",
   "execution_count": 179,
   "metadata": {
    "scrolled": true
   },
   "outputs": [
    {
     "name": "stdout",
     "output_type": "stream",
     "text": [
      "_________________________________________________________________\n",
      "Layer (type)                 Output Shape              Param #   \n",
      "=================================================================\n",
      "lstm_61 (LSTM)               (None, 70)                20160     \n",
      "_________________________________________________________________\n",
      "dropout_51 (Dropout)         (None, 70)                0         \n",
      "_________________________________________________________________\n",
      "dense_52 (Dense)             (None, 70)                4970      \n",
      "_________________________________________________________________\n",
      "activation_49 (Activation)   (None, 70)                0         \n",
      "=================================================================\n",
      "Total params: 25,130\n",
      "Trainable params: 25,130\n",
      "Non-trainable params: 0\n",
      "_________________________________________________________________\n",
      "None\n"
     ]
    }
   ],
   "source": [
    "'''\n",
    "1 (c) iii\n",
    "'''\n",
    "import numpy as np\n",
    "from tensorflow.keras.models import Sequential\n",
    "from tensorflow.keras.layers import Dense, Activation, Embedding, Dropout, TimeDistributed, LSTM\n",
    "from tensorflow.keras.utils import to_categorical\n",
    "WINDOW_SIZE = 100\n",
    "NUM_STEPS = 99\n",
    "BATCH_SIZE = 1000\n",
    "STRIDES = 1 \n",
    "#69 + 1 = 70\n",
    "VOCABULARY = max(char_dict.values()) + 1 \n",
    "\n",
    "memory_unit = VOCABULARY\n",
    "train_data = np.transpose(train_data)\n",
    "\n",
    "#Credit: https://adventuresinmachinelearning.com/keras-lstm-tutorial/\n",
    "class KerasBatchGenerator(object):\n",
    "\n",
    "    def __init__(self, data, num_steps, batch_size, vocabulary, skip_step):\n",
    "        self.data = data\n",
    "        self.num_steps = num_steps\n",
    "        self.batch_size = batch_size\n",
    "        self.vocabulary = vocabulary\n",
    "        # this will track the progress of the batches sequentially through the\n",
    "        # data set - once the data reaches the end of the data set it will reset\n",
    "        # back to zero\n",
    "        self.current_idx = 0\n",
    "        # skip_step is the number of words which will be skipped before the next\n",
    "        # batch is skimmed from the data set\n",
    "        self.skip_step = skip_step\n",
    "\n",
    "    def generate(self):\n",
    "        x = np.zeros((self.batch_size, self.num_steps, 1))\n",
    "        y = np.zeros((self.batch_size, self.vocabulary))\n",
    "        while True:\n",
    "            for i in range(self.batch_size):\n",
    "                if self.current_idx + self.num_steps + 1 >= len(self.data):\n",
    "                    # reset the index back to the start of the data set\n",
    "                    self.current_idx = 0\n",
    "                    \n",
    "                x[i, :, :] = [[char] for char in self.data[self.current_idx:self.current_idx + self.num_steps]]\n",
    "                temp_y = self.data[self.current_idx + self.num_steps:self.current_idx + self.num_steps + 1]\n",
    "                # convert temp_y into a one hot representation\n",
    "                temp_y = round(self.vocabulary * temp_y[0]) - 1\n",
    "                y[i, :] = to_categorical(temp_y, num_classes=self.vocabulary)\n",
    "                self.current_idx += self.skip_step\n",
    "            yield x, y\n",
    "            \n",
    "train_data_generator = KerasBatchGenerator(train_data, NUM_STEPS, BATCH_SIZE, VOCABULARY,\n",
    "                                           skip_step=STRIDES)\n",
    "\n",
    "#build the keras model \n",
    "model = Sequential()\n",
    "#Word embedding https://stackoverflow.com/questions/46155868/keras-embedding-layer\n",
    "#model.add(Embedding(VOCABULARY, 8, input_length=NUM_STEPS))\n",
    "model.add(LSTM(memory_unit, return_sequences=False, input_shape=(99,1)))\n",
    "model.add(Dropout(0.2))\n",
    "model.add((Dense(VOCABULARY)))\n",
    "model.add(Activation('softmax'))\n",
    "\n",
    "model.compile(loss='categorical_crossentropy', optimizer='adam', metrics=['categorical_accuracy'])\n",
    "print(model.summary())\n",
    "\n"
   ]
  },
  {
   "cell_type": "code",
   "execution_count": 196,
   "metadata": {
    "scrolled": true
   },
   "outputs": [
    {
     "name": "stdout",
     "output_type": "stream",
     "text": [
      "Epoch 1/30\n",
      "1595/1596 [============================>.] - ETA: 1s - loss: 2.8224 - categorical_accuracy: 0.2136\n",
      "Epoch 00001: loss improved from inf to 2.82240, saving model to /Users/kuirensu/Desktop/INF552HW/HW7/model-01-2.8224.hdf5\n",
      "1596/1596 [==============================] - 1867s 1s/step - loss: 2.8224 - categorical_accuracy: 0.2136\n",
      "Epoch 2/30\n",
      "1595/1596 [============================>.] - ETA: 1s - loss: 2.7780 - categorical_accuracy: 0.2202\n",
      "Epoch 00002: loss improved from 2.82240 to 2.77798, saving model to /Users/kuirensu/Desktop/INF552HW/HW7/model-02-2.7780.hdf5\n",
      "1596/1596 [==============================] - 1860s 1s/step - loss: 2.7780 - categorical_accuracy: 0.2202\n",
      "Epoch 3/30\n",
      "1595/1596 [============================>.] - ETA: 1s - loss: 2.7376 - categorical_accuracy: 0.2246\n",
      "Epoch 00003: loss improved from 2.77798 to 2.73751, saving model to /Users/kuirensu/Desktop/INF552HW/HW7/model-03-2.7375.hdf5\n",
      "1596/1596 [==============================] - 1857s 1s/step - loss: 2.7375 - categorical_accuracy: 0.2246\n",
      "Epoch 4/30\n",
      "1595/1596 [============================>.] - ETA: 1s - loss: 2.7047 - categorical_accuracy: 0.2296\n",
      "Epoch 00004: loss improved from 2.73751 to 2.70466, saving model to /Users/kuirensu/Desktop/INF552HW/HW7/model-04-2.7047.hdf5\n",
      "1596/1596 [==============================] - 1877s 1s/step - loss: 2.7047 - categorical_accuracy: 0.2296\n",
      "Epoch 5/30\n",
      "1595/1596 [============================>.] - ETA: 1s - loss: 2.6738 - categorical_accuracy: 0.2362\n",
      "Epoch 00005: loss improved from 2.70466 to 2.67370, saving model to /Users/kuirensu/Desktop/INF552HW/HW7/model-05-2.6737.hdf5\n",
      "1596/1596 [==============================] - 1889s 1s/step - loss: 2.6737 - categorical_accuracy: 0.2363\n",
      "Epoch 6/30\n",
      "1595/1596 [============================>.] - ETA: 1s - loss: 2.6472 - categorical_accuracy: 0.2417\n",
      "Epoch 00006: loss improved from 2.67370 to 2.64719, saving model to /Users/kuirensu/Desktop/INF552HW/HW7/model-06-2.6472.hdf5\n",
      "1596/1596 [==============================] - 1889s 1s/step - loss: 2.6472 - categorical_accuracy: 0.2417\n",
      "Epoch 7/30\n",
      "1595/1596 [============================>.] - ETA: 1s - loss: 2.6248 - categorical_accuracy: 0.2467\n",
      "Epoch 00007: loss improved from 2.64719 to 2.62478, saving model to /Users/kuirensu/Desktop/INF552HW/HW7/model-07-2.6248.hdf5\n",
      "1596/1596 [==============================] - 1895s 1s/step - loss: 2.6248 - categorical_accuracy: 0.2467\n",
      "Epoch 8/30\n",
      "1595/1596 [============================>.] - ETA: 1s - loss: 2.6055 - categorical_accuracy: 0.2517\n",
      "Epoch 00008: loss improved from 2.62478 to 2.60545, saving model to /Users/kuirensu/Desktop/INF552HW/HW7/model-08-2.6054.hdf5\n",
      "1596/1596 [==============================] - 1900s 1s/step - loss: 2.6054 - categorical_accuracy: 0.2517\n",
      "Epoch 9/30\n",
      "1595/1596 [============================>.] - ETA: 1s - loss: 2.5864 - categorical_accuracy: 0.2565\n",
      "Epoch 00009: loss improved from 2.60545 to 2.58646, saving model to /Users/kuirensu/Desktop/INF552HW/HW7/model-09-2.5865.hdf5\n",
      "1596/1596 [==============================] - 1891s 1s/step - loss: 2.5865 - categorical_accuracy: 0.2565\n",
      "Epoch 10/30\n",
      "1595/1596 [============================>.] - ETA: 1s - loss: 2.5691 - categorical_accuracy: 0.2609\n",
      "Epoch 00010: loss improved from 2.58646 to 2.56917, saving model to /Users/kuirensu/Desktop/INF552HW/HW7/model-10-2.5692.hdf5\n",
      "1596/1596 [==============================] - 1894s 1s/step - loss: 2.5692 - categorical_accuracy: 0.2609\n",
      "Epoch 11/30\n",
      "1595/1596 [============================>.] - ETA: 1s - loss: 2.5534 - categorical_accuracy: 0.2650\n",
      "Epoch 00011: loss improved from 2.56917 to 2.55348, saving model to /Users/kuirensu/Desktop/INF552HW/HW7/model-11-2.5535.hdf5\n",
      "1596/1596 [==============================] - 1896s 1s/step - loss: 2.5535 - categorical_accuracy: 0.2650\n",
      "Epoch 12/30\n",
      "1595/1596 [============================>.] - ETA: 1s - loss: 2.5388 - categorical_accuracy: 0.2689\n",
      "Epoch 00012: loss improved from 2.55348 to 2.53878, saving model to /Users/kuirensu/Desktop/INF552HW/HW7/model-12-2.5388.hdf5\n",
      "1596/1596 [==============================] - 1902s 1s/step - loss: 2.5388 - categorical_accuracy: 0.2689\n",
      "Epoch 13/30\n",
      "1595/1596 [============================>.] - ETA: 1s - loss: 2.5246 - categorical_accuracy: 0.2729\n",
      "Epoch 00013: loss improved from 2.53878 to 2.52462, saving model to /Users/kuirensu/Desktop/INF552HW/HW7/model-13-2.5246.hdf5\n",
      "1596/1596 [==============================] - 1898s 1s/step - loss: 2.5246 - categorical_accuracy: 0.2729\n",
      "Epoch 14/30\n",
      "1595/1596 [============================>.] - ETA: 1s - loss: 2.5123 - categorical_accuracy: 0.2760\n",
      "Epoch 00014: loss improved from 2.52462 to 2.51230, saving model to /Users/kuirensu/Desktop/INF552HW/HW7/model-14-2.5123.hdf5\n",
      "1596/1596 [==============================] - 1899s 1s/step - loss: 2.5123 - categorical_accuracy: 0.2760\n",
      "Epoch 15/30\n",
      "1595/1596 [============================>.] - ETA: 1s - loss: 2.5000 - categorical_accuracy: 0.2795\n",
      "Epoch 00015: loss improved from 2.51230 to 2.50002, saving model to /Users/kuirensu/Desktop/INF552HW/HW7/model-15-2.5000.hdf5\n",
      "1596/1596 [==============================] - 1902s 1s/step - loss: 2.5000 - categorical_accuracy: 0.2795\n",
      "Epoch 16/30\n",
      "1595/1596 [============================>.] - ETA: 1s - loss: 2.4876 - categorical_accuracy: 0.2825\n",
      "Epoch 00016: loss improved from 2.50002 to 2.48761, saving model to /Users/kuirensu/Desktop/INF552HW/HW7/model-16-2.4876.hdf5\n",
      "1596/1596 [==============================] - 1905s 1s/step - loss: 2.4876 - categorical_accuracy: 0.2824\n",
      "Epoch 17/30\n",
      "1595/1596 [============================>.] - ETA: 1s - loss: 2.4762 - categorical_accuracy: 0.2854\n",
      "Epoch 00017: loss improved from 2.48761 to 2.47628, saving model to /Users/kuirensu/Desktop/INF552HW/HW7/model-17-2.4763.hdf5\n",
      "1596/1596 [==============================] - 1925s 1s/step - loss: 2.4763 - categorical_accuracy: 0.2853\n",
      "Epoch 18/30\n",
      "1595/1596 [============================>.] - ETA: 1s - loss: 2.4652 - categorical_accuracy: 0.2885\n",
      "Epoch 00018: loss improved from 2.47628 to 2.46526, saving model to /Users/kuirensu/Desktop/INF552HW/HW7/model-18-2.4653.hdf5\n",
      "1596/1596 [==============================] - 1945s 1s/step - loss: 2.4653 - categorical_accuracy: 0.2885\n",
      "Epoch 19/30\n",
      "1595/1596 [============================>.] - ETA: 1s - loss: 2.4550 - categorical_accuracy: 0.2913\n",
      "Epoch 00019: loss improved from 2.46526 to 2.45501, saving model to /Users/kuirensu/Desktop/INF552HW/HW7/model-19-2.4550.hdf5\n",
      "1596/1596 [==============================] - 1934s 1s/step - loss: 2.4550 - categorical_accuracy: 0.2913\n",
      "Epoch 20/30\n",
      "1595/1596 [============================>.] - ETA: 1s - loss: 2.4449 - categorical_accuracy: 0.2943\n",
      "Epoch 00020: loss improved from 2.45501 to 2.44502, saving model to /Users/kuirensu/Desktop/INF552HW/HW7/model-20-2.4450.hdf5\n",
      "1596/1596 [==============================] - 1939s 1s/step - loss: 2.4450 - categorical_accuracy: 0.2942\n",
      "Epoch 21/30\n",
      "1595/1596 [============================>.] - ETA: 1s - loss: 2.4351 - categorical_accuracy: 0.2968\n",
      "Epoch 00021: loss improved from 2.44502 to 2.43522, saving model to /Users/kuirensu/Desktop/INF552HW/HW7/model-21-2.4352.hdf5\n",
      "1596/1596 [==============================] - 1977s 1s/step - loss: 2.4352 - categorical_accuracy: 0.2968\n",
      "Epoch 22/30\n",
      "1595/1596 [============================>.] - ETA: 1s - loss: 2.4257 - categorical_accuracy: 0.2994\n",
      "Epoch 00022: loss improved from 2.43522 to 2.42585, saving model to /Users/kuirensu/Desktop/INF552HW/HW7/model-22-2.4259.hdf5\n",
      "1596/1596 [==============================] - 1946s 1s/step - loss: 2.4259 - categorical_accuracy: 0.2994\n",
      "Epoch 23/30\n",
      "1595/1596 [============================>.] - ETA: 1s - loss: 2.4177 - categorical_accuracy: 0.3018\n",
      "Epoch 00023: loss improved from 2.42585 to 2.41766, saving model to /Users/kuirensu/Desktop/INF552HW/HW7/model-23-2.4177.hdf5\n",
      "1596/1596 [==============================] - 1927s 1s/step - loss: 2.4177 - categorical_accuracy: 0.3018\n",
      "Epoch 24/30\n",
      "1595/1596 [============================>.] - ETA: 1s - loss: 2.4090 - categorical_accuracy: 0.3046\n",
      "Epoch 00024: loss improved from 2.41766 to 2.40888, saving model to /Users/kuirensu/Desktop/INF552HW/HW7/model-24-2.4089.hdf5\n",
      "1596/1596 [==============================] - 3170s 2s/step - loss: 2.4089 - categorical_accuracy: 0.3047\n"
     ]
    },
    {
     "name": "stdout",
     "output_type": "stream",
     "text": [
      "Epoch 25/30\n",
      "1595/1596 [============================>.] - ETA: 1s - loss: 2.4000 - categorical_accuracy: 0.3076\n",
      "Epoch 00025: loss improved from 2.40888 to 2.39994, saving model to /Users/kuirensu/Desktop/INF552HW/HW7/model-25-2.3999.hdf5\n",
      "1596/1596 [==============================] - 2109s 1s/step - loss: 2.3999 - categorical_accuracy: 0.3076\n",
      "Epoch 26/30\n",
      "1595/1596 [============================>.] - ETA: 1s - loss: 2.3921 - categorical_accuracy: 0.3097\n",
      "Epoch 00026: loss improved from 2.39994 to 2.39206, saving model to /Users/kuirensu/Desktop/INF552HW/HW7/model-26-2.3921.hdf5\n",
      "1596/1596 [==============================] - 2041s 1s/step - loss: 2.3921 - categorical_accuracy: 0.3097\n",
      "Epoch 27/30\n",
      "1595/1596 [============================>.] - ETA: 1s - loss: 2.3847 - categorical_accuracy: 0.3115\n",
      "Epoch 00027: loss improved from 2.39206 to 2.38467, saving model to /Users/kuirensu/Desktop/INF552HW/HW7/model-27-2.3847.hdf5\n",
      "1596/1596 [==============================] - 2082s 1s/step - loss: 2.3847 - categorical_accuracy: 0.3115\n",
      "Epoch 28/30\n",
      "1595/1596 [============================>.] - ETA: 1s - loss: 2.3771 - categorical_accuracy: 0.3139\n",
      "Epoch 00028: loss improved from 2.38467 to 2.37702, saving model to /Users/kuirensu/Desktop/INF552HW/HW7/model-28-2.3770.hdf5\n",
      "1596/1596 [==============================] - 2412s 2s/step - loss: 2.3770 - categorical_accuracy: 0.3139\n",
      "Epoch 29/30\n",
      "1595/1596 [============================>.] - ETA: 1s - loss: 2.3699 - categorical_accuracy: 0.3158\n",
      "Epoch 00029: loss improved from 2.37702 to 2.36993, saving model to /Users/kuirensu/Desktop/INF552HW/HW7/model-29-2.3699.hdf5\n",
      "1596/1596 [==============================] - 2010s 1s/step - loss: 2.3699 - categorical_accuracy: 0.3158\n",
      "Epoch 30/30\n",
      "1595/1596 [============================>.] - ETA: 1s - loss: 2.3642 - categorical_accuracy: 0.3178\n",
      "Epoch 00030: loss improved from 2.36993 to 2.36421, saving model to /Users/kuirensu/Desktop/INF552HW/HW7/model-30-2.3642.hdf5\n",
      "1596/1596 [==============================] - 1950s 1s/step - loss: 2.3642 - categorical_accuracy: 0.3178\n"
     ]
    },
    {
     "data": {
      "text/plain": [
       "<tensorflow.python.keras.callbacks.History at 0xb6c5cf710>"
      ]
     },
     "execution_count": 196,
     "metadata": {},
     "output_type": "execute_result"
    }
   ],
   "source": [
    "import os\n",
    "from tensorflow.keras.callbacks import ModelCheckpoint\n",
    "\n",
    "NUM_EPOCHS = 30\n",
    "cur_path = os.getcwd()\n",
    "filepath= cur_path + \"/model-{epoch:02d}-{loss:.4f}.hdf5\"\n",
    "\n",
    "# define the checkpoint\n",
    "checkpoint = ModelCheckpoint(filepath, monitor = \"loss\", verbose = 1, save_best_only=True, mode='min')\n",
    "callbacks_list = [checkpoint]\n",
    "model.fit_generator(train_data_generator.generate(), (len(train_data) - 99)//(BATCH_SIZE), NUM_EPOCHS, callbacks=callbacks_list)\n",
    "\n",
    "\n",
    "#print index to content\n",
    "# print(reversed_dictionary)\n",
    "# for e in sequences[:300]: \n",
    "#     print(reversed_dictionary[e[0]], end=\"\")"
   ]
  },
  {
   "cell_type": "code",
   "execution_count": 203,
   "metadata": {},
   "outputs": [
    {
     "name": "stdout",
     "output_type": "stream",
     "text": [
      "There are those who take mental phenomena naively, just as they would physical phenomena. This school of psychologists tends not to emphasize the object.}sgd}rdqdshnm}ne}sgdr}sgd}rg sgd}sgd}rg sgd}sgd}rg sgd}sgd}rg sgd}sgd}rg sgd}sgd}rg sgd}sgd}rg sgd}sgd}rg sgd}sgd}rg sgd}sgd}rg sgd}sgd}rg sgd}sgd}rg sgd}sgd}rg sgd}sgd}rg sgd}sgd}rg sgd}sgd}rg sgd}sgd}rg sgd}sgd}rg sgd}sgd}rg sgd}sgd}rg sgd}sgd}rg sgd}sgd}rg sgd}sgd}rg sgd}sgd}rg sgd}sgd}rg sgd}sgd}rg sgd}sgd}rg sgd}sgd}rg sgd}sgd}rg sgd}sgd}rg sgd}sgd}rg sgd}sgd}rg sgd}sgd}rg sgd}sgd}rg sgd}sgd}rg sgd}sgd}rg sgd}sgd}rg sgd}sgd}rg sgd}sgd}rg sgd}sgd}rg sgd}sgd}rg sgd}sgd}rg sgd}sgd}rg sgd}sgd}rg sgd}sgd}rg sgd}sgd}rg sgd}sgd}rg sgd}sgd}rg sgd}sgd}rg sgd}sgd}rg sgd}sgd}rg sgd}sgd}rg sgd}sgd}rg sgd}sgd}rg sgd}sgd}rg sgd}sgd}rg sgd}sgd}rg sgd}sgd}rg sgd}sgd}rg sgd}sgd}rg sgd}sgd}rg sgd}sgd}rg sgd}sgd}rg sgd}sgd}rg sgd}sgd}rg sgd}sgd}rg sgd}sgd}rg sgd}sgd}rg sgd}sgd}rg sgd}sgd}rg sgd}sgd}rg sgd}sgd}rg sgd}sgd}rg sgd}sgd}rg sgd}sgd}rg sgd}sgd}rg sgd}sgd}rg sgd}sgd}rg sgd}sgd}rg sgd}sgd}rg sgd}sgd}rg sgd}sgd}rg sgd}sgd}rg sgd}sgd}rg sgd}sgd}rg sgd}sgd}rg sgd}sgd}rg sgd}sgd}rg sgd}sgd}rg sgd"
     ]
    }
   ],
   "source": [
    "'''\n",
    "1 (xi)\n",
    "'''# https://machinelearningmastery.com/text-generation-lstm-recurrent-neural-networks-python-keras/\n",
    "load_filepath= \"model-30-2.3642.hdf5\"\n",
    "model.load_weights(load_filepath)\n",
    "model.compile(loss='categorical_crossentropy', optimizer='adam', metrics=['categorical_accuracy'])\n",
    "\n",
    "init_text = \"There are those who take mental phenomena naively, just as they would physical phenomena. This school of psychologists tends not to emphasize the object.\"\n",
    "print (init_text, end=\"\")\n",
    "input_text = init_text[len(init_text) - 99 : ]\n",
    "# generate characters\n",
    "for i in range(1000):\n",
    "    x = [char_dict[char.lower()] for char in input_text]\n",
    "    x = np.reshape(x, (1, len(x), 1))\n",
    "    x = x / VOCABULARY\n",
    "    prediction = model.predict(x, verbose=0)\n",
    "    index = np.argmax(prediction)\n",
    "    result = reversed_dictionary[index]\n",
    "    print(result, end=\"\")\n",
    "    input_text += result\n",
    "    input_text = input_text[1:]\n",
    "    "
   ]
  },
  {
   "cell_type": "code",
   "execution_count": 1,
   "metadata": {
    "scrolled": false
   },
   "outputs": [],
   "source": [
    "'''\n",
    "2 (a,b,c)\n",
    "'''\n",
    "import numpy as np\n",
    "import pickle\n",
    "import os\n",
    "from random import randint\n",
    "cur_path = os.getcwd()\n",
    "image_file_path = cur_path + \"/cifar-10-batches-py/data_batch_\"\n",
    "dicts = []\n",
    "for i in range (5):\n",
    "    infile = open(image_file_path+ str(i+1),'rb')\n",
    "    new_dict = pickle.load(infile, encoding='latin1')\n",
    "    dicts.append(new_dict)\n",
    "image_test_file_path = cur_path + \"/cifar-10-batches-py/test_batch\"\n",
    "test_file = open(image_test_file_path,'rb')\n",
    "test_dict = pickle.load(test_file, encoding='latin1')    \n",
    "dicts.append(test_dict)"
   ]
  },
  {
   "cell_type": "code",
   "execution_count": 2,
   "metadata": {},
   "outputs": [],
   "source": [
    "# third is bird, index 2\n",
    "bird_images = []\n",
    "for i in range (len(dicts)):\n",
    "    array = np.array(dicts[i][\"labels\"])\n",
    "    indexes = np.argwhere(array == 2).ravel()\n",
    "    for index in indexes: \n",
    "        bird_images.append(dicts[i][\"data\"][index])"
   ]
  },
  {
   "cell_type": "code",
   "execution_count": 3,
   "metadata": {},
   "outputs": [],
   "source": [
    "bird_pixels = [] \n",
    "for i in range(len(bird_images)):\n",
    "    temp_pixel = []\n",
    "    for j in range(1024):\n",
    "        #RGB\n",
    "        temp_pixel.append([bird_images[i][j], bird_images[i][j+1024], bird_images[i][j+2048]])\n",
    "    bird_pixels.append(temp_pixel)\n",
    "    "
   ]
  },
  {
   "cell_type": "code",
   "execution_count": 47,
   "metadata": {},
   "outputs": [
    {
     "name": "stdout",
     "output_type": "stream",
     "text": [
      "6144000\n"
     ]
    }
   ],
   "source": [
    "random_pixels = []\n",
    "for i in range (len(bird_pixels)):\n",
    "    for j in range (1024):\n",
    "        random_pixels.append(bird_pixels[i][j])\n",
    "print(len(random_pixels))"
   ]
  },
  {
   "cell_type": "code",
   "execution_count": 48,
   "metadata": {},
   "outputs": [],
   "source": [
    "'''\n",
    "2 (d)\n",
    "'''\n",
    "from sklearn.cluster import KMeans\n",
    "X = np.array(random_pixels)\n",
    "kmeans = KMeans(n_clusters=4, random_state=0).fit(X)"
   ]
  },
  {
   "cell_type": "code",
   "execution_count": null,
   "metadata": {},
   "outputs": [],
   "source": [
    "#time consuming 30min\n",
    "#convert to nearest kneighbors\n",
    "colors = [[255, 255, 255], [170, 255, 195],[230, 25, 75], [0,0,128]]\n",
    "bird_pixels_clustered = []\n",
    "for i in range (len(bird_pixels)):\n",
    "    temp_pixels = []\n",
    "    for j in range (1024):\n",
    "        cluster = kmeans.predict([bird_pixels[i][j]])\n",
    "        temp_pixels.append(colors[cluster[0]])\n",
    "    bird_pixels_clustered.append(temp_pixels)\n",
    "print(len(bird_pixels_clustered) )      "
   ]
  },
  {
   "cell_type": "code",
   "execution_count": 4,
   "metadata": {},
   "outputs": [
    {
     "name": "stdout",
     "output_type": "stream",
     "text": [
      "6000\n"
     ]
    }
   ],
   "source": [
    "colors = [[255, 255, 255], [170, 255, 195],[230, 25, 75], [0,0,128]]\n",
    "bird_filename = 'bird_pixels_clustered'\n",
    "# outfile = open(bird_filename,'wb')\n",
    "# pickle.dump(bird_pixels_clustered,outfile)\n",
    "# outfile.close()\n",
    "infile = open(bird_filename,'rb')\n",
    "bird_pixels_clustered_copy = pickle.load(infile)\n",
    "infile.close()\n",
    "print(len(bird_pixels_clustered_copy))"
   ]
  },
  {
   "cell_type": "code",
   "execution_count": 5,
   "metadata": {
    "scrolled": false
   },
   "outputs": [],
   "source": [
    "'''\n",
    "2 (e)\n",
    "'''\n",
    "import matplotlib.pyplot as plt\n",
    "import matplotlib.image as mpimg\n",
    "color_codes = [[1, 0, 0, 0], [0, 1, 0, 0], [0, 0, 1, 0], [0, 0, 0, 1]]\n",
    "#DRAW IMAGE DATA WITH MTP\n",
    "# clustered_data = np.reshape(bird_pixels_clustered_copy[1], (32, 32, 3))\n",
    "# imgplot = plt.imshow(clustered_data)\n",
    "\n",
    "def rgb2gray(rgb):\n",
    "    return np.dot(rgb[...,:3], [0.299, 0.587, 0.144])\n",
    "gray_birds = []\n",
    "for image in bird_pixels_clustered_copy:\n",
    "    gray_birds.append(rgb2gray(np.reshape(image, (32, 32, 3))))\n",
    "\n",
    "bird_output = []\n",
    "for image in bird_pixels_clustered_copy:\n",
    "    temp_output = []\n",
    "    for j in range (1024): \n",
    "        for k in range (len(color_codes)): \n",
    "            if image[j] == colors[k]:\n",
    "                #only in one time\n",
    "                temp_output.append(color_codes[k])\n",
    "    bird_output.append(temp_output)\n",
    "    \n",
    "targets = np.array(bird_output)\n",
    "data = np.array(gray_birds)\n",
    "data = np.reshape(data,(6000, 32, 32, 1))\n",
    "#normailize grayscale 0-1 \n",
    "data = data / 255\n"
   ]
  },
  {
   "cell_type": "code",
   "execution_count": 6,
   "metadata": {},
   "outputs": [
    {
     "name": "stdout",
     "output_type": "stream",
     "text": [
      "WARNING:tensorflow:From /anaconda3/lib/python3.6/site-packages/tensorflow/python/ops/resource_variable_ops.py:435: colocate_with (from tensorflow.python.framework.ops) is deprecated and will be removed in a future version.\n",
      "Instructions for updating:\n",
      "Colocations handled automatically by placer.\n",
      "_________________________________________________________________\n",
      "Layer (type)                 Output Shape              Param #   \n",
      "=================================================================\n",
      "conv2d (Conv2D)              (None, 32, 32, 4)         104       \n",
      "_________________________________________________________________\n",
      "conv2d_1 (Conv2D)            (None, 32, 32, 4)         404       \n",
      "_________________________________________________________________\n",
      "max_pooling2d (MaxPooling2D) (None, 16, 16, 4)         0         \n",
      "_________________________________________________________________\n",
      "flatten (Flatten)            (None, 1024)              0         \n",
      "_________________________________________________________________\n",
      "dense (Dense)                (None, 1024)              1049600   \n",
      "_________________________________________________________________\n",
      "dense_1 (Dense)              (None, 4096)              4198400   \n",
      "_________________________________________________________________\n",
      "activation (Activation)      (None, 4096)              0         \n",
      "_________________________________________________________________\n",
      "reshape (Reshape)            (None, 1024, 4)           0         \n",
      "=================================================================\n",
      "Total params: 5,248,508\n",
      "Trainable params: 5,248,508\n",
      "Non-trainable params: 0\n",
      "_________________________________________________________________\n",
      "None\n"
     ]
    }
   ],
   "source": [
    "from tensorflow.keras.models import Sequential\n",
    "from tensorflow.keras.layers import Dense, Activation, Embedding, Dropout, TimeDistributed, LSTM, MaxPooling2D, Conv2D, Flatten, Reshape\n",
    "from tensorflow.keras.utils import to_categorical\n",
    "NUM_OF_FILTERS = 4\n",
    "model = Sequential()\n",
    "model.add(Conv2D(NUM_OF_FILTERS, (5, 5),padding='same', input_shape=(32,32,1)))\n",
    "model.add(Conv2D(NUM_OF_FILTERS, (5, 5), padding='same'))\n",
    "model.add(MaxPooling2D(pool_size=(2,2)))\n",
    "model.add(Flatten())\n",
    "model.add(Dense(1024, activation='relu'))\n",
    "model.add(Dense(4096))\n",
    "model.add(Activation('softmax'))\n",
    "model.add(Reshape((1024,4)))\n",
    "model.compile(optimizer='adam',\n",
    "              loss='categorical_crossentropy',\n",
    "              metrics=['accuracy'])\n",
    "print(model.summary())"
   ]
  },
  {
   "cell_type": "code",
   "execution_count": 7,
   "metadata": {},
   "outputs": [
    {
     "name": "stdout",
     "output_type": "stream",
     "text": [
      "Train on 4800 samples, validate on 1200 samples\n",
      "WARNING:tensorflow:From /anaconda3/lib/python3.6/site-packages/tensorflow/python/ops/math_ops.py:3066: to_int32 (from tensorflow.python.ops.math_ops) is deprecated and will be removed in a future version.\n",
      "Instructions for updating:\n",
      "Use tf.cast instead.\n",
      "Epoch 1/30\n",
      "4700/4800 [============================>.] - ETA: 0s - loss: 1.1800 - acc: 0.4469\n",
      "Epoch 00001: loss improved from inf to 1.17722, saving model to /Users/kuirensu/Desktop/INF552HW/HW7/bird-01-1.1772.hdf5\n",
      "4800/4800 [==============================] - 10s 2ms/sample - loss: 1.1772 - acc: 0.4490 - val_loss: 1.0507 - val_acc: 0.5364\n",
      "Epoch 2/30\n",
      "4700/4800 [============================>.] - ETA: 0s - loss: 0.9763 - acc: 0.5789\n",
      "Epoch 00002: loss improved from 1.17722 to 0.97488, saving model to /Users/kuirensu/Desktop/INF552HW/HW7/bird-02-0.9749.hdf5\n",
      "4800/4800 [==============================] - 9s 2ms/sample - loss: 0.9749 - acc: 0.5798 - val_loss: 0.9384 - val_acc: 0.5973\n",
      "Epoch 3/30\n",
      "4700/4800 [============================>.] - ETA: 0s - loss: 0.8811 - acc: 0.6298\n",
      "Epoch 00003: loss improved from 0.97488 to 0.88064, saving model to /Users/kuirensu/Desktop/INF552HW/HW7/bird-03-0.8806.hdf5\n",
      "4800/4800 [==============================] - 9s 2ms/sample - loss: 0.8806 - acc: 0.6300 - val_loss: 0.8790 - val_acc: 0.6303\n",
      "Epoch 4/30\n",
      "4700/4800 [============================>.] - ETA: 0s - loss: 0.8111 - acc: 0.6653\n",
      "Epoch 00004: loss improved from 0.88064 to 0.81058, saving model to /Users/kuirensu/Desktop/INF552HW/HW7/bird-04-0.8106.hdf5\n",
      "4800/4800 [==============================] - 9s 2ms/sample - loss: 0.8106 - acc: 0.6654 - val_loss: 0.8537 - val_acc: 0.6444\n",
      "Epoch 5/30\n",
      "4700/4800 [============================>.] - ETA: 0s - loss: 0.7625 - acc: 0.6886\n",
      "Epoch 00005: loss improved from 0.81058 to 0.76208, saving model to /Users/kuirensu/Desktop/INF552HW/HW7/bird-05-0.7621.hdf5\n",
      "4800/4800 [==============================] - 10s 2ms/sample - loss: 0.7621 - acc: 0.6887 - val_loss: 0.8072 - val_acc: 0.6665\n",
      "Epoch 6/30\n",
      "4700/4800 [============================>.] - ETA: 0s - loss: 0.7115 - acc: 0.7138\n",
      "Epoch 00006: loss improved from 0.76208 to 0.71049, saving model to /Users/kuirensu/Desktop/INF552HW/HW7/bird-06-0.7105.hdf5\n",
      "4800/4800 [==============================] - 9s 2ms/sample - loss: 0.7105 - acc: 0.7144 - val_loss: 0.7837 - val_acc: 0.6775\n",
      "Epoch 7/30\n",
      "4700/4800 [============================>.] - ETA: 0s - loss: 0.6657 - acc: 0.7365\n",
      "Epoch 00007: loss improved from 0.71049 to 0.66684, saving model to /Users/kuirensu/Desktop/INF552HW/HW7/bird-07-0.6668.hdf5\n",
      "4800/4800 [==============================] - 10s 2ms/sample - loss: 0.6668 - acc: 0.7360 - val_loss: 0.7757 - val_acc: 0.6872\n",
      "Epoch 8/30\n",
      "4700/4800 [============================>.] - ETA: 0s - loss: 0.6257 - acc: 0.7562\n",
      "Epoch 00008: loss improved from 0.66684 to 0.62579, saving model to /Users/kuirensu/Desktop/INF552HW/HW7/bird-08-0.6258.hdf5\n",
      "4800/4800 [==============================] - 9s 2ms/sample - loss: 0.6258 - acc: 0.7562 - val_loss: 0.7563 - val_acc: 0.6958\n",
      "Epoch 9/30\n",
      "4700/4800 [============================>.] - ETA: 0s - loss: 0.5864 - acc: 0.7748\n",
      "Epoch 00009: loss improved from 0.62579 to 0.58645, saving model to /Users/kuirensu/Desktop/INF552HW/HW7/bird-09-0.5864.hdf5\n",
      "4800/4800 [==============================] - 9s 2ms/sample - loss: 0.5864 - acc: 0.7747 - val_loss: 0.7700 - val_acc: 0.6834\n",
      "Epoch 10/30\n",
      "4700/4800 [============================>.] - ETA: 0s - loss: 0.5521 - acc: 0.7891\n",
      "Epoch 00010: loss improved from 0.58645 to 0.55248, saving model to /Users/kuirensu/Desktop/INF552HW/HW7/bird-10-0.5525.hdf5\n",
      "4800/4800 [==============================] - 9s 2ms/sample - loss: 0.5525 - acc: 0.7889 - val_loss: 0.7641 - val_acc: 0.7036\n",
      "Epoch 11/30\n",
      "4700/4800 [============================>.] - ETA: 0s - loss: 0.5139 - acc: 0.8074\n",
      "Epoch 00011: loss improved from 0.55248 to 0.51417, saving model to /Users/kuirensu/Desktop/INF552HW/HW7/bird-11-0.5142.hdf5\n",
      "4800/4800 [==============================] - 9s 2ms/sample - loss: 0.5142 - acc: 0.8073 - val_loss: 0.7426 - val_acc: 0.7111\n",
      "Epoch 12/30\n",
      "4700/4800 [============================>.] - ETA: 0s - loss: 0.4840 - acc: 0.8203\n",
      "Epoch 00012: loss improved from 0.51417 to 0.48444, saving model to /Users/kuirensu/Desktop/INF552HW/HW7/bird-12-0.4844.hdf5\n",
      "4800/4800 [==============================] - 9s 2ms/sample - loss: 0.4844 - acc: 0.8199 - val_loss: 0.7456 - val_acc: 0.7106\n",
      "Epoch 13/30\n",
      "4700/4800 [============================>.] - ETA: 0s - loss: 0.4676 - acc: 0.8243\n",
      "Epoch 00013: loss improved from 0.48444 to 0.46786, saving model to /Users/kuirensu/Desktop/INF552HW/HW7/bird-13-0.4679.hdf5\n",
      "4800/4800 [==============================] - 9s 2ms/sample - loss: 0.4679 - acc: 0.8242 - val_loss: 0.7531 - val_acc: 0.7093\n",
      "Epoch 14/30\n",
      "4700/4800 [============================>.] - ETA: 0s - loss: 0.4345 - acc: 0.8397\n",
      "Epoch 00014: loss improved from 0.46786 to 0.43459, saving model to /Users/kuirensu/Desktop/INF552HW/HW7/bird-14-0.4346.hdf5\n",
      "4800/4800 [==============================] - 9s 2ms/sample - loss: 0.4346 - acc: 0.8397 - val_loss: 0.7547 - val_acc: 0.7087\n",
      "Epoch 15/30\n",
      "4700/4800 [============================>.] - ETA: 0s - loss: 0.4081 - acc: 0.8506\n",
      "Epoch 00015: loss improved from 0.43459 to 0.40810, saving model to /Users/kuirensu/Desktop/INF552HW/HW7/bird-15-0.4081.hdf5\n",
      "4800/4800 [==============================] - 10s 2ms/sample - loss: 0.4081 - acc: 0.8506 - val_loss: 0.7690 - val_acc: 0.7067\n",
      "Epoch 16/30\n",
      "4700/4800 [============================>.] - ETA: 0s - loss: 0.3853 - acc: 0.8595\n",
      "Epoch 00016: loss improved from 0.40810 to 0.38543, saving model to /Users/kuirensu/Desktop/INF552HW/HW7/bird-16-0.3854.hdf5\n",
      "4800/4800 [==============================] - 9s 2ms/sample - loss: 0.3854 - acc: 0.8594 - val_loss: 0.7743 - val_acc: 0.7110\n",
      "Epoch 17/30\n",
      "4700/4800 [============================>.] - ETA: 0s - loss: 0.3700 - acc: 0.8651\n",
      "Epoch 00017: loss improved from 0.38543 to 0.37032, saving model to /Users/kuirensu/Desktop/INF552HW/HW7/bird-17-0.3703.hdf5\n",
      "4800/4800 [==============================] - 9s 2ms/sample - loss: 0.3703 - acc: 0.8649 - val_loss: 0.7918 - val_acc: 0.7109\n",
      "Epoch 18/30\n",
      "4700/4800 [============================>.] - ETA: 0s - loss: 0.3522 - acc: 0.8718\n",
      "Epoch 00018: loss improved from 0.37032 to 0.35242, saving model to /Users/kuirensu/Desktop/INF552HW/HW7/bird-18-0.3524.hdf5\n",
      "4800/4800 [==============================] - 9s 2ms/sample - loss: 0.3524 - acc: 0.8716 - val_loss: 0.8020 - val_acc: 0.7112\n",
      "Epoch 19/30\n",
      "4700/4800 [============================>.] - ETA: 0s - loss: 0.3309 - acc: 0.8802\n",
      "Epoch 00019: loss improved from 0.35242 to 0.33149, saving model to /Users/kuirensu/Desktop/INF552HW/HW7/bird-19-0.3315.hdf5\n",
      "4800/4800 [==============================] - 9s 2ms/sample - loss: 0.3315 - acc: 0.8799 - val_loss: 0.8163 - val_acc: 0.7125\n",
      "Epoch 20/30\n",
      "4700/4800 [============================>.] - ETA: 0s - loss: 0.3143 - acc: 0.8867\n",
      "Epoch 00020: loss improved from 0.33149 to 0.31499, saving model to /Users/kuirensu/Desktop/INF552HW/HW7/bird-20-0.3150.hdf5\n",
      "4800/4800 [==============================] - 9s 2ms/sample - loss: 0.3150 - acc: 0.8864 - val_loss: 0.8390 - val_acc: 0.7113\n",
      "Epoch 21/30\n",
      "4700/4800 [============================>.] - ETA: 0s - loss: 0.2974 - acc: 0.8934\n",
      "Epoch 00021: loss improved from 0.31499 to 0.29806, saving model to /Users/kuirensu/Desktop/INF552HW/HW7/bird-21-0.2981.hdf5\n",
      "4800/4800 [==============================] - 9s 2ms/sample - loss: 0.2981 - acc: 0.8931 - val_loss: 0.8543 - val_acc: 0.7110\n",
      "Epoch 22/30\n",
      "4700/4800 [============================>.] - ETA: 0s - loss: 0.2841 - acc: 0.8980\n",
      "Epoch 00022: loss improved from 0.29806 to 0.28438, saving model to /Users/kuirensu/Desktop/INF552HW/HW7/bird-22-0.2844.hdf5\n",
      "4800/4800 [==============================] - 9s 2ms/sample - loss: 0.2844 - acc: 0.8979 - val_loss: 0.8855 - val_acc: 0.7006\n",
      "Epoch 23/30\n",
      "4700/4800 [============================>.] - ETA: 0s - loss: 0.2738 - acc: 0.9019\n",
      "Epoch 00023: loss improved from 0.28438 to 0.27425, saving model to /Users/kuirensu/Desktop/INF552HW/HW7/bird-23-0.2742.hdf5\n",
      "4800/4800 [==============================] - 10s 2ms/sample - loss: 0.2742 - acc: 0.9018 - val_loss: 0.9004 - val_acc: 0.7089\n"
     ]
    },
    {
     "name": "stdout",
     "output_type": "stream",
     "text": [
      "Epoch 24/30\n",
      "4700/4800 [============================>.] - ETA: 0s - loss: 0.2563 - acc: 0.9090\n",
      "Epoch 00024: loss improved from 0.27425 to 0.25680, saving model to /Users/kuirensu/Desktop/INF552HW/HW7/bird-24-0.2568.hdf5\n",
      "4800/4800 [==============================] - 9s 2ms/sample - loss: 0.2568 - acc: 0.9088 - val_loss: 0.9325 - val_acc: 0.7076\n",
      "Epoch 25/30\n",
      "4700/4800 [============================>.] - ETA: 0s - loss: 0.2439 - acc: 0.9138\n",
      "Epoch 00025: loss improved from 0.25680 to 0.24417, saving model to /Users/kuirensu/Desktop/INF552HW/HW7/bird-25-0.2442.hdf5\n",
      "4800/4800 [==============================] - 9s 2ms/sample - loss: 0.2442 - acc: 0.9136 - val_loss: 0.9409 - val_acc: 0.7033\n",
      "Epoch 26/30\n",
      "4700/4800 [============================>.] - ETA: 0s - loss: 0.2323 - acc: 0.9182\n",
      "Epoch 00026: loss improved from 0.24417 to 0.23278, saving model to /Users/kuirensu/Desktop/INF552HW/HW7/bird-26-0.2328.hdf5\n",
      "4800/4800 [==============================] - 10s 2ms/sample - loss: 0.2328 - acc: 0.9180 - val_loss: 0.9739 - val_acc: 0.7049\n",
      "Epoch 27/30\n",
      "4700/4800 [============================>.] - ETA: 0s - loss: 0.2197 - acc: 0.9231\n",
      "Epoch 00027: loss improved from 0.23278 to 0.22036, saving model to /Users/kuirensu/Desktop/INF552HW/HW7/bird-27-0.2204.hdf5\n",
      "4800/4800 [==============================] - 10s 2ms/sample - loss: 0.2204 - acc: 0.9228 - val_loss: 0.9925 - val_acc: 0.7022\n",
      "Epoch 28/30\n",
      "4700/4800 [============================>.] - ETA: 0s - loss: 0.2089 - acc: 0.9272\n",
      "Epoch 00028: loss improved from 0.22036 to 0.20929, saving model to /Users/kuirensu/Desktop/INF552HW/HW7/bird-28-0.2093.hdf5\n",
      "4800/4800 [==============================] - 9s 2ms/sample - loss: 0.2093 - acc: 0.9270 - val_loss: 1.0203 - val_acc: 0.7047\n",
      "Epoch 29/30\n",
      "4700/4800 [============================>.] - ETA: 0s - loss: 0.1966 - acc: 0.9322\n",
      "Epoch 00029: loss improved from 0.20929 to 0.19672, saving model to /Users/kuirensu/Desktop/INF552HW/HW7/bird-29-0.1967.hdf5\n",
      "4800/4800 [==============================] - 9s 2ms/sample - loss: 0.1967 - acc: 0.9321 - val_loss: 1.0491 - val_acc: 0.7028\n",
      "Epoch 30/30\n",
      "4700/4800 [============================>.] - ETA: 0s - loss: 0.1873 - acc: 0.9355\n",
      "Epoch 00030: loss improved from 0.19672 to 0.18790, saving model to /Users/kuirensu/Desktop/INF552HW/HW7/bird-30-0.1879.hdf5\n",
      "4800/4800 [==============================] - 9s 2ms/sample - loss: 0.1879 - acc: 0.9352 - val_loss: 1.0865 - val_acc: 0.6990\n"
     ]
    }
   ],
   "source": [
    "from sklearn.model_selection import train_test_split\n",
    "from tensorflow.keras.callbacks import ModelCheckpoint\n",
    "X_train, X_test, y_train, y_test = train_test_split(data, targets, test_size=0.20, random_state=42)\n",
    "\n",
    "cur_path = os.getcwd()\n",
    "filepath= cur_path + \"/bird-{epoch:02d}-{loss:.4f}.hdf5\"\n",
    "checkpoint = ModelCheckpoint(filepath, monitor = \"loss\", verbose = 1, save_best_only=True, mode='min')\n",
    "callbacks_list = [checkpoint]\n",
    "\n",
    "history = model.fit(X_train, y_train, batch_size=100, epochs=30, verbose=1,validation_data=(X_test, y_test),callbacks=callbacks_list)\n"
   ]
  },
  {
   "cell_type": "code",
   "execution_count": 8,
   "metadata": {},
   "outputs": [],
   "source": [
    "error_data = []\n",
    "train_accuracy = history.history['acc']\n",
    "test_accuracy = history.history['val_acc']\n",
    "error_data.append(1 - np.array(train_accuracy))\n",
    "error_data.append(1 - np.array(test_accuracy))\n",
    "prediction = model.predict([X_test[0:10]], verbose=0)\n",
    "# outfile = open(\"bird_y_test\",'wb')\n",
    "# pickle.dump(y_test,outfile)\n",
    "# outfile.close()\n",
    "# outfile = open(\"bird_train_test_error\",'wb')\n",
    "# pickle.dump(error_data,outfile)\n",
    "# outfile.close()\n",
    "# outfile = open(\"ten_prediction\",'wb')\n",
    "# pickle.dump(prediction,outfile)\n",
    "# outfile.close()"
   ]
  },
  {
   "cell_type": "code",
   "execution_count": 1,
   "metadata": {},
   "outputs": [],
   "source": [
    "import numpy as np\n",
    "import pickle\n",
    "import matplotlib.pyplot as plt\n",
    "import matplotlib.image as mpimg\n",
    "colors = [[255, 255, 255], [170, 255, 195],[230, 25, 75], [0,0,128]]\n",
    "infile = open(\"bird_train_test_error\",'rb')\n",
    "error_data = pickle.load(infile)\n",
    "infile.close()\n",
    "infile = open(\"ten_prediction\",'rb')\n",
    "prediction = pickle.load(infile)\n",
    "infile.close()\n",
    "infile = open(\"bird_y_test\",'rb')\n",
    "y_test = pickle.load(infile)\n",
    "infile.close()\n",
    "#Generate 10 predicted images\n",
    "ten_test_results = []\n",
    "for i in range(len(prediction)):\n",
    "    temp_image = []\n",
    "    for j in range (1024): \n",
    "        index = np.argmax(prediction[i][j])\n",
    "        temp_image.append(colors[index])\n",
    "    temp_image = np.array(temp_image)\n",
    "    temp_image = np.reshape(temp_image,(32, 32, 3))\n",
    "    ten_test_results.append(temp_image)\n"
   ]
  },
  {
   "cell_type": "code",
   "execution_count": 12,
   "metadata": {},
   "outputs": [],
   "source": [
    "#Convert 10 test labels to images\n",
    "ten_y_test = []\n",
    "for i in range(10):\n",
    "    temp_image = []\n",
    "    for j in range (1024): \n",
    "        index = np.argwhere(y_test[i][j] == 1)\n",
    "        \n",
    "        temp_image.append(colors[index[0][0]])\n",
    "    temp_image = np.array(temp_image)\n",
    "    temp_image = np.reshape(temp_image,(32, 32, 3))\n",
    "    ten_y_test.append(temp_image)"
   ]
  },
  {
   "cell_type": "code",
   "execution_count": 14,
   "metadata": {},
   "outputs": [
    {
     "data": {
      "image/png": "[encoded data removed]",
      "text/plain": [
       "<Figure size 1440x1440 with 20 Axes>"
      ]
     },
     "metadata": {
      "needs_background": "light"
     },
     "output_type": "display_data"
    }
   ],
   "source": [
    "#Plot multiple images \n",
    "#https://stackoverflow.com/questions/46615554/how-to-display-multiple-images-in-one-figure-correctly/46616645\n",
    "fig=plt.figure(figsize=(20, 20))\n",
    "columns = 4\n",
    "rows = 5\n",
    "for i in range(1, 11):\n",
    "    fig.add_subplot(rows, columns, i*2-1)\n",
    "    plt.imshow(ten_y_test[i-1])\n",
    "    fig.add_subplot(rows, columns, i*2)\n",
    "    plt.imshow(ten_test_results[i-1])\n",
    "plt.show()"
   ]
  },
  {
   "cell_type": "code",
   "execution_count": 17,
   "metadata": {},
   "outputs": [
    {
     "data": {
      "text/plain": [
       "Text(0.5, 1.0, 'Error Curves')"
      ]
     },
     "execution_count": 17,
     "metadata": {},
     "output_type": "execute_result"
    },
    {
     "data": {
      "image/png": "[encoded data removed]",
      "text/plain": [
       "<Figure size 576x432 with 1 Axes>"
      ]
     },
     "metadata": {
      "needs_background": "light"
     },
     "output_type": "display_data"
    }
   ],
   "source": [
    "# Error Curves\n",
    "plt.figure(figsize=[8,6])\n",
    "plt.plot(error_data[0],'r',linewidth=3.0)\n",
    "plt.plot(error_data[1],'b',linewidth=3.0)\n",
    "plt.legend(['Training Error', 'Test Error'],fontsize=18)\n",
    "plt.xlabel('Epochs ',fontsize=16)\n",
    "plt.ylabel('Error',fontsize=16)\n",
    "plt.title('Error Curves',fontsize=16)\n",
    "  \n"
   ]
  },
  {
   "cell_type": "code",
   "execution_count": null,
   "metadata": {},
   "outputs": [],
   "source": []
  }
 ],
 "metadata": {
  "kernelspec": {
   "display_name": "Python 3",
   "language": "python",
   "name": "python3"
  },
  "language_info": {
   "codemirror_mode": {
    "name": "ipython",
    "version": 3
   },
   "file_extension": ".py",
   "mimetype": "text/x-python",
   "name": "python",
   "nbconvert_exporter": "python",
   "pygments_lexer": "ipython3",
   "version": "3.6.8"
  }
 },
 "nbformat": 4,
 "nbformat_minor": 2
}
